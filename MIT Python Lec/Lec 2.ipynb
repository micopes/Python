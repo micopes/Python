{
 "cells": [
  {
   "cell_type": "code",
   "execution_count": 10,
   "metadata": {},
   "outputs": [
    {
     "name": "stdout",
     "output_type": "stream",
     "text": [
      "9\n",
      "Enter a number: asd\n",
      "asd\n"
     ]
    }
   ],
   "source": [
    "x = 3\n",
    "x = x*x\n",
    "print(x)\n",
    "n = input('Enter a number: ')\n",
    "print(n)"
   ]
  },
  {
   "cell_type": "code",
   "execution_count": 2,
   "metadata": {},
   "outputs": [
    {
     "name": "stdout",
     "output_type": "stream",
     "text": [
      "Even\n"
     ]
    }
   ],
   "source": [
    "# conditional (조건문)\n",
    "x = 15\n",
    "if (x/2)*2 == x : # python 2랑 다른 값을 주네. 나눈 값이 정수가아니라 float이라서. 제대로 된 값이 안나온다.\n",
    "    print('Even')\n",
    "else :\n",
    "     print('Odd')"
   ]
  },
  {
   "cell_type": "code",
   "execution_count": 3,
   "metadata": {},
   "outputs": [
    {
     "name": "stdout",
     "output_type": "stream",
     "text": [
      "Odd\n"
     ]
    }
   ],
   "source": [
    "# conditional (조건문)\n",
    "x = 15\n",
    "if x % 2 == 0 : # 고쳐주었다.\n",
    "    print('Even')\n",
    "else :\n",
    "     print('Odd')"
   ]
  },
  {
   "cell_type": "code",
   "execution_count": 4,
   "metadata": {},
   "outputs": [],
   "source": [
    "z = 'b'\n",
    "if 'x' < z : # 문자 'x' 와 'b'를 비교하였는데 아스키코드상 x가 더크므로 작동하지 않는다.\n",
    "    print('Hello')\n",
    "    print('Mom')"
   ]
  },
  {
   "cell_type": "code",
   "execution_count": 5,
   "metadata": {},
   "outputs": [
    {
     "name": "stdout",
     "output_type": "stream",
     "text": [
      "Mom\n"
     ]
    }
   ],
   "source": [
    "z = 'b'\n",
    "if 'x' < z : # 문자 'x' 와 'b'를 비교하였는데 아스키코드상 x가 더크므로 작동하지 않는다.\n",
    "    print('Hello')\n",
    "print('Mom') # Mom은 python의 indent 규칙에 의해 if문에 포함되지 않기 때문에."
   ]
  },
  {
   "cell_type": "code",
   "execution_count": 6,
   "metadata": {},
   "outputs": [
    {
     "name": "stdout",
     "output_type": "stream",
     "text": [
      "15 5 11\n",
      "y is least\n"
     ]
    }
   ],
   "source": [
    "x = 15\n",
    "y = 5 # 13으로 바꾸면 아래 식이 오류라는 것을 보일 수 있음.\n",
    "z = 11\n",
    "print(x, y, z)\n",
    "# Is this right ?\n",
    "# : z 와 y를 비교하지 않았기 때문에 x보다 y가 낮다고해서 y가 제일 낮은 값이 아니다.\n",
    "if x < y : \n",
    "    if x < z :\n",
    "        print('x is least')\n",
    "    else : \n",
    "        print('z is least')\n",
    "else :\n",
    "    print('y is least')"
   ]
  },
  {
   "cell_type": "code",
   "execution_count": 7,
   "metadata": {},
   "outputs": [
    {
     "name": "stdout",
     "output_type": "stream",
     "text": [
      "15 13 11\n",
      "z is least\n"
     ]
    }
   ],
   "source": [
    "x = 15\n",
    "y = 13\n",
    "z = 11\n",
    "print(x, y, z)\n",
    "\n",
    "if x < y and x < z : \n",
    "    print('x is least')\n",
    "elif y < z :\n",
    "    print('y is least')\n",
    "else :\n",
    "    print('z is least')"
   ]
  },
  {
   "cell_type": "code",
   "execution_count": 9,
   "metadata": {},
   "outputs": [
    {
     "name": "stdout",
     "output_type": "stream",
     "text": [
      "9\n"
     ]
    }
   ],
   "source": [
    "y = 0\n",
    "x = 3\n",
    "itersLeft = x\n",
    "while(itersLeft > 0) :\n",
    "    y = y + x\n",
    "    itersLeft = itersLeft - 1\n",
    "print(y)"
   ]
  },
  {
   "cell_type": "code",
   "execution_count": null,
   "metadata": {},
   "outputs": [],
   "source": []
  }
 ],
 "metadata": {
  "kernelspec": {
   "display_name": "Python 3",
   "language": "python",
   "name": "python3"
  },
  "language_info": {
   "codemirror_mode": {
    "name": "ipython",
    "version": 3
   },
   "file_extension": ".py",
   "mimetype": "text/x-python",
   "name": "python",
   "nbconvert_exporter": "python",
   "pygments_lexer": "ipython3",
   "version": "3.7.6"
  }
 },
 "nbformat": 4,
 "nbformat_minor": 4
}
